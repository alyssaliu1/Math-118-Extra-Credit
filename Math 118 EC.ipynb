{
 "cells": [
  {
   "cell_type": "markdown",
   "id": "24f25063-12ff-4aea-a2c8-6b95053a3998",
   "metadata": {},
   "source": [
    "# Comparing Different Text Vectorization Techniques in ML\n",
    "### Specifically in a sentiment analysis context\n",
    "\n",
    "#### By Alyssa Liu\n",
    "#### Also available at https://github.com/alyssaliu1"
   ]
  },
  {
   "cell_type": "code",
   "execution_count": 1,
   "id": "50aacc68-9664-41cd-a25d-45af6cdab1d6",
   "metadata": {},
   "outputs": [],
   "source": [
    "from numpy import array\n",
    "from keras.preprocessing.text import one_hot\n",
    "from keras_preprocessing.sequence import pad_sequences\n",
    "from keras.models import Sequential\n",
    "from keras.layers.core import Activation, Dropout, Dense\n",
    "from keras.layers import Flatten, LSTM\n",
    "from keras.layers import GlobalMaxPooling1D\n",
    "from keras.models import Model\n",
    "from tensorflow.keras.layers import Embedding\n",
    "from sklearn.model_selection import train_test_split\n",
    "from keras.preprocessing.text import Tokenizer\n",
    "from keras.layers import Input\n",
    "from keras.layers import concatenate\n",
    "\n",
    "import pandas as pd\n",
    "import numpy as np\n",
    "import re"
   ]
  },
  {
   "cell_type": "markdown",
   "id": "fa27a52f-fd2c-47f2-803b-56d9dc391e32",
   "metadata": {},
   "source": [
    "## Initial Data Cleaning"
   ]
  },
  {
   "cell_type": "code",
   "execution_count": 2,
   "id": "42f4e2d8-b61e-4584-aec1-081596352d08",
   "metadata": {},
   "outputs": [],
   "source": [
    "df = pd.read_csv('reviews.csv', index_col = 0)"
   ]
  },
  {
   "cell_type": "code",
   "execution_count": 3,
   "id": "1e67ca1d-ca2c-4df4-a390-66ed5500e1e9",
   "metadata": {},
   "outputs": [],
   "source": [
    "df = df[['Review Text', 'Recommended IND']]\n",
    "df.rename(columns={\"Review Text\": \"Reviews\", \"Recommended IND\": \"Recommended\"}, inplace = True)"
   ]
  },
  {
   "cell_type": "code",
   "execution_count": 4,
   "id": "a73e3b38-3ea4-42f4-8c5b-c556ec7facb4",
   "metadata": {},
   "outputs": [
    {
     "data": {
      "text/html": [
       "<div>\n",
       "<style scoped>\n",
       "    .dataframe tbody tr th:only-of-type {\n",
       "        vertical-align: middle;\n",
       "    }\n",
       "\n",
       "    .dataframe tbody tr th {\n",
       "        vertical-align: top;\n",
       "    }\n",
       "\n",
       "    .dataframe thead th {\n",
       "        text-align: right;\n",
       "    }\n",
       "</style>\n",
       "<table border=\"1\" class=\"dataframe\">\n",
       "  <thead>\n",
       "    <tr style=\"text-align: right;\">\n",
       "      <th></th>\n",
       "      <th>Reviews</th>\n",
       "      <th>Recommended</th>\n",
       "    </tr>\n",
       "  </thead>\n",
       "  <tbody>\n",
       "    <tr>\n",
       "      <th>0</th>\n",
       "      <td>Absolutely wonderful - silky and sexy and comf...</td>\n",
       "      <td>1</td>\n",
       "    </tr>\n",
       "    <tr>\n",
       "      <th>1</th>\n",
       "      <td>Love this dress!  it's sooo pretty.  i happene...</td>\n",
       "      <td>1</td>\n",
       "    </tr>\n",
       "    <tr>\n",
       "      <th>2</th>\n",
       "      <td>I had such high hopes for this dress and reall...</td>\n",
       "      <td>0</td>\n",
       "    </tr>\n",
       "    <tr>\n",
       "      <th>3</th>\n",
       "      <td>I love, love, love this jumpsuit. it's fun, fl...</td>\n",
       "      <td>1</td>\n",
       "    </tr>\n",
       "    <tr>\n",
       "      <th>4</th>\n",
       "      <td>This shirt is very flattering to all due to th...</td>\n",
       "      <td>1</td>\n",
       "    </tr>\n",
       "  </tbody>\n",
       "</table>\n",
       "</div>"
      ],
      "text/plain": [
       "                                             Reviews  Recommended\n",
       "0  Absolutely wonderful - silky and sexy and comf...            1\n",
       "1  Love this dress!  it's sooo pretty.  i happene...            1\n",
       "2  I had such high hopes for this dress and reall...            0\n",
       "3  I love, love, love this jumpsuit. it's fun, fl...            1\n",
       "4  This shirt is very flattering to all due to th...            1"
      ]
     },
     "execution_count": 4,
     "metadata": {},
     "output_type": "execute_result"
    }
   ],
   "source": [
    "df = df.dropna()\n",
    "df.head()"
   ]
  },
  {
   "cell_type": "code",
   "execution_count": 5,
   "id": "16ec8bdb-28b8-4038-8ade-8787b6060263",
   "metadata": {},
   "outputs": [
    {
     "data": {
      "text/plain": [
       "'I\\'m 5\"5\\' and 125 lbs. i ordered the s petite to make sure the length wasn\\'t too long. i typically wear an xs regular in retailer dresses. if you\\'re less busty (34b cup or smaller), a s petite will fit you perfectly (snug, but not tight). i love that i could dress it up for a party, or down for work. i love that the tulle is longer then the fabric underneath.'"
      ]
     },
     "execution_count": 5,
     "metadata": {},
     "output_type": "execute_result"
    }
   ],
   "source": [
    "df[\"Reviews\"][9]"
   ]
  },
  {
   "cell_type": "code",
   "execution_count": 6,
   "id": "e995e3cb-ea83-46df-8569-ee40144970fe",
   "metadata": {},
   "outputs": [
    {
     "data": {
      "text/plain": [
       "'Bought the black xs to go under the larkspur midi dress because they didn\\'t bother lining the skirt portion (grrrrrrrrrrr).\\r\\nmy stats are 34a-28/29-36 and the xs fit very smoothly around the chest and was flowy around my lower half, so i would say it\\'s running big.\\r\\nthe straps are very pretty and it could easily be nightwear too.\\r\\ni\\'m 5\\'6\" and it came to just below my knees.'"
      ]
     },
     "execution_count": 6,
     "metadata": {},
     "output_type": "execute_result"
    }
   ],
   "source": [
    "df[\"Reviews\"][13]"
   ]
  },
  {
   "cell_type": "code",
   "execution_count": 7,
   "id": "74a83e63-ca5a-4fea-ac9b-88fbe7c90a95",
   "metadata": {},
   "outputs": [
    {
     "name": "stdout",
     "output_type": "stream",
     "text": [
      "['i', 'me', 'my', 'myself', 'we', 'our', 'ours', 'ourselves', 'you', \"you're\", \"you've\", \"you'll\", \"you'd\", 'your', 'yours', 'yourself', 'yourselves', 'he', 'him', 'his', 'himself', 'she', \"she's\", 'her', 'hers', 'herself', 'it', \"it's\", 'its', 'itself', 'they', 'them', 'their', 'theirs', 'themselves', 'what', 'which', 'who', 'whom', 'this', 'that', \"that'll\", 'these', 'those', 'am', 'is', 'are', 'was', 'were', 'be', 'been', 'being', 'have', 'has', 'had', 'having', 'do', 'does', 'did', 'doing', 'a', 'an', 'the', 'and', 'but', 'if', 'or', 'because', 'as', 'until', 'while', 'of', 'at', 'by', 'for', 'with', 'about', 'against', 'between', 'into', 'through', 'during', 'before', 'after', 'above', 'below', 'to', 'from', 'up', 'down', 'in', 'out', 'on', 'off', 'over', 'under', 'again', 'further', 'then', 'once', 'here', 'there', 'when', 'where', 'why', 'how', 'all', 'any', 'both', 'each', 'few', 'more', 'most', 'other', 'some', 'such', 'no', 'nor', 'only', 'own', 'same', 'so', 'than', 'too', 'very', 's', 't', 'can', 'will', 'just', 'don', \"don't\", 'should', \"should've\", 'now', 'd', 'll', 'm', 'o', 're', 've', 'y', 'ain', 'aren', \"aren't\", 'couldn', \"couldn't\", 'didn', \"didn't\", 'doesn', \"doesn't\", 'hadn', \"hadn't\", 'hasn', \"hasn't\", 'haven', \"haven't\", 'isn', \"isn't\", 'ma', 'mightn', \"mightn't\", 'mustn', \"mustn't\", 'needn', \"needn't\", 'shan', \"shan't\", 'shouldn', \"shouldn't\", 'wasn', \"wasn't\", 'weren', \"weren't\", 'won', \"won't\", 'wouldn', \"wouldn't\"]\n"
     ]
    }
   ],
   "source": [
    "import nltk\n",
    "from nltk.corpus import stopwords\n",
    "sw = stopwords.words('english')\n",
    "sw.remove(\"not\")\n",
    "print(sw)"
   ]
  },
  {
   "cell_type": "markdown",
   "id": "7027eb94-23d7-488b-bee1-8a9b61dfbd48",
   "metadata": {},
   "source": [
    "Notable issues for preprocessing text:\n",
    " - We can see that there are some extra characters, and sometimes \\r or \\n in the review text\n",
    " - Since we are essentially performing sentiment analysis (1 means the user recommends the product, which is positive sentiment, and 0 means the user does not recommend the product, which is negative sentiment), we need to be aware of what kind of stopwords we are removing, specifically when it comes to negation\n",
    "     - A more specific example: \"wouldn't\" is removed with the NLTK stopwords library, but this would vastly change the meaning of the sentence: \"I wouldn't recommend this item\"."
   ]
  },
  {
   "cell_type": "markdown",
   "id": "2e329bbb-82fe-4b37-b311-a503adffb6c9",
   "metadata": {},
   "source": [
    "To deal with these issues, we can first remove unnecessary characters and split contractions into two words (ex: wouldn't to would + not), and then remove those words from the stopwords list.\n",
    "\n",
    "I also noticed the dataset contained some elongated words, like \"aaaaamazing\", which would be processed differently than simply \"amazing\". We will correct those words as well."
   ]
  },
  {
   "cell_type": "code",
   "execution_count": 8,
   "id": "dcbf44ed-6ab2-46b0-acb3-ca45fe4d4cb1",
   "metadata": {},
   "outputs": [],
   "source": [
    "def clean_reviews(review):\n",
    "    new_review = re.sub(r\"\\'t\", \" not\", review) # fix contractions\n",
    "    new_review = re.sub(r\"\\'re\", \" are\", new_review) # fix contractions\n",
    "    new_review = re.sub(r\"\\n\", \"\", new_review) # remove newlines\n",
    "    new_review = re.sub(r\"\\r\", \"\", new_review) \n",
    "    new_review = re.sub('[^a-zA-Z]', ' ', new_review) # keep only letters\n",
    "    new_review = re.sub(r'\\s+', ' ', new_review) # remove multiple spaces in a row\n",
    "    new_review = re.sub(r\"\\s+[a-zA-Z]\\s+\", ' ', new_review) # remove characters of length < 2\n",
    "    new_review = re.sub(r'(.)\\1{2,}', r'\\1', new_review) # remove elongated words\n",
    "    new_review = new_review.strip() # remove trailing and leading whitespace\n",
    "    return new_review"
   ]
  },
  {
   "cell_type": "code",
   "execution_count": 9,
   "id": "dd9e0abe-de6a-4d24-8c9d-d0442093fd9e",
   "metadata": {},
   "outputs": [],
   "source": [
    "df['Reviews'] = df['Reviews'].apply(clean_reviews)"
   ]
  },
  {
   "cell_type": "code",
   "execution_count": 10,
   "id": "ca2305b4-00a9-4f4c-80df-a7df42fc8279",
   "metadata": {},
   "outputs": [
    {
     "data": {
      "text/plain": [
       "'I and lbs ordered the petite to make sure the length wasn not too long typically wear an xs regular in retailer dresses if you are less busty cup or smaller s petite will fit you perfectly snug but not tight love that could dress it up for party or down for work love that the tulle is longer then the fabric underneath'"
      ]
     },
     "execution_count": 10,
     "metadata": {},
     "output_type": "execute_result"
    }
   ],
   "source": [
    "df['Reviews'][9]"
   ]
  },
  {
   "cell_type": "markdown",
   "id": "c938c3f1-d2af-4e13-b804-b08195d99382",
   "metadata": {},
   "source": [
    "Now we will lemmatize the words and remove stopwords. In this case we choose lemmatization over stemming the words because the contexts of the words are important for sentiment analysis."
   ]
  },
  {
   "cell_type": "code",
   "execution_count": 11,
   "id": "43ce38f5-a896-414a-a50e-5086f02cee3a",
   "metadata": {},
   "outputs": [],
   "source": [
    "from nltk.stem import WordNetLemmatizer\n",
    "def preprocess(review):\n",
    "    \n",
    "    # convert to lower case and split into words -> convert string into list ( 'hello world' -> ['hello', 'world'])\n",
    "    words = review.lower().split()\n",
    "\n",
    "    no_sw = []\n",
    "    # lemmatizer = PorterStemmer()\n",
    "    \n",
    "    # remove stopwords\n",
    "    for word in words:\n",
    "        if word not in sw:\n",
    "            no_sw.append(word)\n",
    "            \n",
    "        # stemm or lemmatise words\n",
    "    lem_words = []\n",
    "    for word in no_sw:\n",
    "        lemmatizer = WordNetLemmatizer()\n",
    "        word = lemmatizer.lemmatize(word, pos = \"a\")\n",
    "        lem_words.append(word)\n",
    "    \n",
    "    # converting list back to string\n",
    "    return \" \".join(lem_words)"
   ]
  },
  {
   "cell_type": "code",
   "execution_count": 12,
   "id": "b1f37f44-a7f9-4174-83e2-f1ad2700db68",
   "metadata": {},
   "outputs": [],
   "source": [
    "df['Reviews'] = df['Reviews'].apply(preprocess)"
   ]
  },
  {
   "cell_type": "code",
   "execution_count": 13,
   "id": "f3437ac4-7d39-477d-8d49-eb452d15497b",
   "metadata": {},
   "outputs": [],
   "source": [
    "X = df['Reviews'].values\n",
    "y = df['Recommended'].values"
   ]
  },
  {
   "cell_type": "markdown",
   "id": "0e552b1a-cb86-4de0-918a-1f4ed1ddef49",
   "metadata": {},
   "source": [
    "# Word Embedding Basics"
   ]
  },
  {
   "cell_type": "markdown",
   "id": "358c39df-8297-455a-878e-f710099224d4",
   "metadata": {},
   "source": [
    "### Word embedding techniques are used to map terms (or n-grams) to real-valued vectors. This is very important to bridging the gap between language and ML, as it converts text into a readable form for ML algorithms."
   ]
  },
  {
   "cell_type": "markdown",
   "id": "963df4ac-5371-48d2-8357-89cdb5ebe586",
   "metadata": {},
   "source": [
    "## Count Vectorizer"
   ]
  },
  {
   "cell_type": "markdown",
   "id": "fcb53bad-9fc1-4faa-aaeb-b7d82a4222b0",
   "metadata": {},
   "source": [
    "### One of the simplest word embedding techniques. For each document, we have an array, and the count of each term in the document is displayed in that array. It's great if we want to look at our text based on word frequency alone, but it's not helpful if we want to know which words are more important in our text analysis/if we want to capture context and relationships between words. It essentially just considers words that occur most frequently,"
   ]
  },
  {
   "cell_type": "code",
   "execution_count": 15,
   "id": "5433e930-fee2-48a9-867b-2320313511d0",
   "metadata": {},
   "outputs": [],
   "source": [
    "from sklearn.feature_extraction.text import CountVectorizer"
   ]
  },
  {
   "cell_type": "code",
   "execution_count": 16,
   "id": "f7427eff-f625-4d18-b765-5bd385c38f88",
   "metadata": {},
   "outputs": [
    {
     "name": "stdout",
     "output_type": "stream",
     "text": [
      "(22641, 3000)\n"
     ]
    },
    {
     "data": {
      "text/html": [
       "<div>\n",
       "<style scoped>\n",
       "    .dataframe tbody tr th:only-of-type {\n",
       "        vertical-align: middle;\n",
       "    }\n",
       "\n",
       "    .dataframe tbody tr th {\n",
       "        vertical-align: top;\n",
       "    }\n",
       "\n",
       "    .dataframe thead th {\n",
       "        text-align: right;\n",
       "    }\n",
       "</style>\n",
       "<table border=\"1\" class=\"dataframe\">\n",
       "  <thead>\n",
       "    <tr style=\"text-align: right;\">\n",
       "      <th></th>\n",
       "      <th>aa</th>\n",
       "      <th>ability</th>\n",
       "      <th>able</th>\n",
       "      <th>absolute</th>\n",
       "      <th>absolutely</th>\n",
       "      <th>abt</th>\n",
       "      <th>accent</th>\n",
       "      <th>accents</th>\n",
       "      <th>accentuate</th>\n",
       "      <th>accentuated</th>\n",
       "      <th>...</th>\n",
       "      <th>yoga</th>\n",
       "      <th>yoke</th>\n",
       "      <th>young</th>\n",
       "      <th>zero</th>\n",
       "      <th>zip</th>\n",
       "      <th>zipped</th>\n",
       "      <th>zipper</th>\n",
       "      <th>zippers</th>\n",
       "      <th>zipping</th>\n",
       "      <th>zips</th>\n",
       "    </tr>\n",
       "  </thead>\n",
       "  <tbody>\n",
       "    <tr>\n",
       "      <th>0</th>\n",
       "      <td>0</td>\n",
       "      <td>0</td>\n",
       "      <td>0</td>\n",
       "      <td>0</td>\n",
       "      <td>1</td>\n",
       "      <td>0</td>\n",
       "      <td>0</td>\n",
       "      <td>0</td>\n",
       "      <td>0</td>\n",
       "      <td>0</td>\n",
       "      <td>...</td>\n",
       "      <td>0</td>\n",
       "      <td>0</td>\n",
       "      <td>0</td>\n",
       "      <td>0</td>\n",
       "      <td>0</td>\n",
       "      <td>0</td>\n",
       "      <td>0</td>\n",
       "      <td>0</td>\n",
       "      <td>0</td>\n",
       "      <td>0</td>\n",
       "    </tr>\n",
       "    <tr>\n",
       "      <th>1</th>\n",
       "      <td>0</td>\n",
       "      <td>0</td>\n",
       "      <td>0</td>\n",
       "      <td>0</td>\n",
       "      <td>0</td>\n",
       "      <td>0</td>\n",
       "      <td>0</td>\n",
       "      <td>0</td>\n",
       "      <td>0</td>\n",
       "      <td>0</td>\n",
       "      <td>...</td>\n",
       "      <td>0</td>\n",
       "      <td>0</td>\n",
       "      <td>0</td>\n",
       "      <td>0</td>\n",
       "      <td>0</td>\n",
       "      <td>0</td>\n",
       "      <td>0</td>\n",
       "      <td>0</td>\n",
       "      <td>0</td>\n",
       "      <td>0</td>\n",
       "    </tr>\n",
       "    <tr>\n",
       "      <th>2</th>\n",
       "      <td>0</td>\n",
       "      <td>0</td>\n",
       "      <td>0</td>\n",
       "      <td>0</td>\n",
       "      <td>0</td>\n",
       "      <td>0</td>\n",
       "      <td>0</td>\n",
       "      <td>0</td>\n",
       "      <td>0</td>\n",
       "      <td>0</td>\n",
       "      <td>...</td>\n",
       "      <td>0</td>\n",
       "      <td>0</td>\n",
       "      <td>0</td>\n",
       "      <td>0</td>\n",
       "      <td>1</td>\n",
       "      <td>0</td>\n",
       "      <td>1</td>\n",
       "      <td>0</td>\n",
       "      <td>0</td>\n",
       "      <td>0</td>\n",
       "    </tr>\n",
       "    <tr>\n",
       "      <th>3</th>\n",
       "      <td>0</td>\n",
       "      <td>0</td>\n",
       "      <td>0</td>\n",
       "      <td>0</td>\n",
       "      <td>0</td>\n",
       "      <td>0</td>\n",
       "      <td>0</td>\n",
       "      <td>0</td>\n",
       "      <td>0</td>\n",
       "      <td>0</td>\n",
       "      <td>...</td>\n",
       "      <td>0</td>\n",
       "      <td>0</td>\n",
       "      <td>0</td>\n",
       "      <td>0</td>\n",
       "      <td>0</td>\n",
       "      <td>0</td>\n",
       "      <td>0</td>\n",
       "      <td>0</td>\n",
       "      <td>0</td>\n",
       "      <td>0</td>\n",
       "    </tr>\n",
       "    <tr>\n",
       "      <th>4</th>\n",
       "      <td>0</td>\n",
       "      <td>0</td>\n",
       "      <td>0</td>\n",
       "      <td>0</td>\n",
       "      <td>0</td>\n",
       "      <td>0</td>\n",
       "      <td>0</td>\n",
       "      <td>0</td>\n",
       "      <td>0</td>\n",
       "      <td>0</td>\n",
       "      <td>...</td>\n",
       "      <td>0</td>\n",
       "      <td>0</td>\n",
       "      <td>0</td>\n",
       "      <td>0</td>\n",
       "      <td>0</td>\n",
       "      <td>0</td>\n",
       "      <td>0</td>\n",
       "      <td>0</td>\n",
       "      <td>0</td>\n",
       "      <td>0</td>\n",
       "    </tr>\n",
       "  </tbody>\n",
       "</table>\n",
       "<p>5 rows × 3000 columns</p>\n",
       "</div>"
      ],
      "text/plain": [
       "   aa  ability  able  absolute  absolutely  abt  accent  accents  accentuate  \\\n",
       "0   0        0     0         0           1    0       0        0           0   \n",
       "1   0        0     0         0           0    0       0        0           0   \n",
       "2   0        0     0         0           0    0       0        0           0   \n",
       "3   0        0     0         0           0    0       0        0           0   \n",
       "4   0        0     0         0           0    0       0        0           0   \n",
       "\n",
       "   accentuated  ...  yoga  yoke  young  zero  zip  zipped  zipper  zippers  \\\n",
       "0            0  ...     0     0      0     0    0       0       0        0   \n",
       "1            0  ...     0     0      0     0    0       0       0        0   \n",
       "2            0  ...     0     0      0     0    1       0       1        0   \n",
       "3            0  ...     0     0      0     0    0       0       0        0   \n",
       "4            0  ...     0     0      0     0    0       0       0        0   \n",
       "\n",
       "   zipping  zips  \n",
       "0        0     0  \n",
       "1        0     0  \n",
       "2        0     0  \n",
       "3        0     0  \n",
       "4        0     0  \n",
       "\n",
       "[5 rows x 3000 columns]"
      ]
     },
     "execution_count": 16,
     "metadata": {},
     "output_type": "execute_result"
    }
   ],
   "source": [
    "cvec = CountVectorizer(max_features = 3000)\n",
    "cv_arr = cvec.fit_transform(X).toarray()\n",
    "cv_df = pd.DataFrame(data = cv_arr, columns = cvec.get_feature_names_out())\n",
    "print(cv_df.shape)\n",
    "cv_df.head()"
   ]
  },
  {
   "cell_type": "markdown",
   "id": "08bf8bcf-9f47-4053-8690-25a21253e068",
   "metadata": {},
   "source": [
    "#### Here we can see just how massive the arrays are - we have a total of 22641 reviews (documents), each with a length of 13415 columns, which is how many unique words we have."
   ]
  },
  {
   "cell_type": "code",
   "execution_count": 18,
   "id": "d8ece2d4-bc24-46ab-a38f-681a6b83e70d",
   "metadata": {},
   "outputs": [],
   "source": [
    "cv_Xtrain, cv_Xtest, y_train, y_test = train_test_split(cv_arr, y, test_size=0.20)\n"
   ]
  },
  {
   "cell_type": "code",
   "execution_count": 20,
   "id": "0ae7b110-f584-427e-96ab-a31033ba9e21",
   "metadata": {},
   "outputs": [],
   "source": [
    "from sklearn.naive_bayes import MultinomialNB\n",
    "from sklearn import metrics\n",
    "from sklearn.metrics import confusion_matrix"
   ]
  },
  {
   "cell_type": "code",
   "execution_count": 21,
   "id": "b940a715-21db-4720-966f-ebd813963d64",
   "metadata": {},
   "outputs": [
    {
     "data": {
      "text/html": [
       "<style>#sk-container-id-1 {color: black;background-color: white;}#sk-container-id-1 pre{padding: 0;}#sk-container-id-1 div.sk-toggleable {background-color: white;}#sk-container-id-1 label.sk-toggleable__label {cursor: pointer;display: block;width: 100%;margin-bottom: 0;padding: 0.3em;box-sizing: border-box;text-align: center;}#sk-container-id-1 label.sk-toggleable__label-arrow:before {content: \"▸\";float: left;margin-right: 0.25em;color: #696969;}#sk-container-id-1 label.sk-toggleable__label-arrow:hover:before {color: black;}#sk-container-id-1 div.sk-estimator:hover label.sk-toggleable__label-arrow:before {color: black;}#sk-container-id-1 div.sk-toggleable__content {max-height: 0;max-width: 0;overflow: hidden;text-align: left;background-color: #f0f8ff;}#sk-container-id-1 div.sk-toggleable__content pre {margin: 0.2em;color: black;border-radius: 0.25em;background-color: #f0f8ff;}#sk-container-id-1 input.sk-toggleable__control:checked~div.sk-toggleable__content {max-height: 200px;max-width: 100%;overflow: auto;}#sk-container-id-1 input.sk-toggleable__control:checked~label.sk-toggleable__label-arrow:before {content: \"▾\";}#sk-container-id-1 div.sk-estimator input.sk-toggleable__control:checked~label.sk-toggleable__label {background-color: #d4ebff;}#sk-container-id-1 div.sk-label input.sk-toggleable__control:checked~label.sk-toggleable__label {background-color: #d4ebff;}#sk-container-id-1 input.sk-hidden--visually {border: 0;clip: rect(1px 1px 1px 1px);clip: rect(1px, 1px, 1px, 1px);height: 1px;margin: -1px;overflow: hidden;padding: 0;position: absolute;width: 1px;}#sk-container-id-1 div.sk-estimator {font-family: monospace;background-color: #f0f8ff;border: 1px dotted black;border-radius: 0.25em;box-sizing: border-box;margin-bottom: 0.5em;}#sk-container-id-1 div.sk-estimator:hover {background-color: #d4ebff;}#sk-container-id-1 div.sk-parallel-item::after {content: \"\";width: 100%;border-bottom: 1px solid gray;flex-grow: 1;}#sk-container-id-1 div.sk-label:hover label.sk-toggleable__label {background-color: #d4ebff;}#sk-container-id-1 div.sk-serial::before {content: \"\";position: absolute;border-left: 1px solid gray;box-sizing: border-box;top: 0;bottom: 0;left: 50%;z-index: 0;}#sk-container-id-1 div.sk-serial {display: flex;flex-direction: column;align-items: center;background-color: white;padding-right: 0.2em;padding-left: 0.2em;position: relative;}#sk-container-id-1 div.sk-item {position: relative;z-index: 1;}#sk-container-id-1 div.sk-parallel {display: flex;align-items: stretch;justify-content: center;background-color: white;position: relative;}#sk-container-id-1 div.sk-item::before, #sk-container-id-1 div.sk-parallel-item::before {content: \"\";position: absolute;border-left: 1px solid gray;box-sizing: border-box;top: 0;bottom: 0;left: 50%;z-index: -1;}#sk-container-id-1 div.sk-parallel-item {display: flex;flex-direction: column;z-index: 1;position: relative;background-color: white;}#sk-container-id-1 div.sk-parallel-item:first-child::after {align-self: flex-end;width: 50%;}#sk-container-id-1 div.sk-parallel-item:last-child::after {align-self: flex-start;width: 50%;}#sk-container-id-1 div.sk-parallel-item:only-child::after {width: 0;}#sk-container-id-1 div.sk-dashed-wrapped {border: 1px dashed gray;margin: 0 0.4em 0.5em 0.4em;box-sizing: border-box;padding-bottom: 0.4em;background-color: white;}#sk-container-id-1 div.sk-label label {font-family: monospace;font-weight: bold;display: inline-block;line-height: 1.2em;}#sk-container-id-1 div.sk-label-container {text-align: center;}#sk-container-id-1 div.sk-container {/* jupyter's `normalize.less` sets `[hidden] { display: none; }` but bootstrap.min.css set `[hidden] { display: none !important; }` so we also need the `!important` here to be able to override the default hidden behavior on the sphinx rendered scikit-learn.org. See: https://github.com/scikit-learn/scikit-learn/issues/21755 */display: inline-block !important;position: relative;}#sk-container-id-1 div.sk-text-repr-fallback {display: none;}</style><div id=\"sk-container-id-1\" class=\"sk-top-container\"><div class=\"sk-text-repr-fallback\"><pre>MultinomialNB()</pre><b>In a Jupyter environment, please rerun this cell to show the HTML representation or trust the notebook. <br />On GitHub, the HTML representation is unable to render, please try loading this page with nbviewer.org.</b></div><div class=\"sk-container\" hidden><div class=\"sk-item\"><div class=\"sk-estimator sk-toggleable\"><input class=\"sk-toggleable__control sk-hidden--visually\" id=\"sk-estimator-id-1\" type=\"checkbox\" checked><label for=\"sk-estimator-id-1\" class=\"sk-toggleable__label sk-toggleable__label-arrow\">MultinomialNB</label><div class=\"sk-toggleable__content\"><pre>MultinomialNB()</pre></div></div></div></div></div>"
      ],
      "text/plain": [
       "MultinomialNB()"
      ]
     },
     "execution_count": 21,
     "metadata": {},
     "output_type": "execute_result"
    }
   ],
   "source": [
    "nbc = MultinomialNB()\n",
    "nbc.fit(cv_Xtrain, y_train)"
   ]
  },
  {
   "cell_type": "code",
   "execution_count": 22,
   "id": "b4bebd8b-5bb2-4bbb-9d9d-5c5d2a2b90f7",
   "metadata": {},
   "outputs": [],
   "source": [
    "predictions = nbc.predict(cv_Xtest)"
   ]
  },
  {
   "cell_type": "code",
   "execution_count": 23,
   "id": "92895409-c916-4030-92b5-5bbb3f9256d5",
   "metadata": {},
   "outputs": [
    {
     "name": "stdout",
     "output_type": "stream",
     "text": [
      "              precision    recall  f1-score   support\n",
      "\n",
      "           0       0.66      0.78      0.71       818\n",
      "           1       0.95      0.91      0.93      3711\n",
      "\n",
      "    accuracy                           0.89      4529\n",
      "   macro avg       0.80      0.85      0.82      4529\n",
      "weighted avg       0.90      0.89      0.89      4529\n",
      "\n"
     ]
    }
   ],
   "source": [
    "print(metrics.classification_report(y_test, predictions))"
   ]
  },
  {
   "cell_type": "code",
   "execution_count": 24,
   "id": "ae054dc4-1116-428b-ae2d-f5ceebcc9850",
   "metadata": {},
   "outputs": [
    {
     "data": {
      "text/plain": [
       "array([[ 639,  179],\n",
       "       [ 332, 3379]])"
      ]
     },
     "execution_count": 24,
     "metadata": {},
     "output_type": "execute_result"
    }
   ],
   "source": [
    "confusion_matrix(y_test, predictions)"
   ]
  },
  {
   "cell_type": "code",
   "execution_count": 25,
   "id": "1fc12021-5ec4-4d02-9bc5-d3ef7d46a76c",
   "metadata": {},
   "outputs": [
    {
     "data": {
      "text/plain": [
       "0.8871715610510046"
      ]
     },
     "execution_count": 25,
     "metadata": {},
     "output_type": "execute_result"
    }
   ],
   "source": [
    "nbc.score(cv_Xtest, y_test)"
   ]
  },
  {
   "cell_type": "markdown",
   "id": "7bd45311-050a-4368-9022-5388f3441ad2",
   "metadata": {},
   "source": [
    "## TF-IDF"
   ]
  },
  {
   "attachments": {
    "033d8828-d0ed-4135-8c72-d35e3d9d0943.png": {
     "image/png": "[encoded data removed]"
    }
   },
   "cell_type": "markdown",
   "id": "8f12c78c-d761-408b-9eef-9e35e188c1f1",
   "metadata": {},
   "source": [
    "![TF1.png](attachment:033d8828-d0ed-4135-8c72-d35e3d9d0943.png)"
   ]
  },
  {
   "attachments": {
    "5b2b37c1-42c7-41e8-b65e-6a43173e1cfe.png": {
     "image/png": "[encoded data removed]"
    }
   },
   "cell_type": "markdown",
   "id": "9e0cbfde-f3b1-4661-a25f-1201b8fd237d",
   "metadata": {},
   "source": [
    "![TF2.png](attachment:5b2b37c1-42c7-41e8-b65e-6a43173e1cfe.png)"
   ]
  },
  {
   "cell_type": "markdown",
   "id": "edda3d61-325b-49a1-812e-e123f22abcf3",
   "metadata": {},
   "source": [
    "### From these photos taken from our class notes, you can see that TF-IDF is the product of term frequency (TF) and inverse-document frequency (IDF). TF is the normalized count of a word in a document, and in the displayed equation $f_{i,j}$ is the number of times term i appears in document j. All words are considered equally important for TF, so TF just gives weight to words based on how frequently they appear. IDF is the log-scaled inverse document frequency for each term. Here, $DF_{i}$ is the number of documents containing term i, showing that IDF measures and considers the importance of each term, essentially looking at the rarity of words.\n",
    "\n",
    "### TF-IDF is great at looking at the similarities between documents, but it does not do a great job of capturing contexts of different words. "
   ]
  },
  {
   "cell_type": "code",
   "execution_count": 26,
   "id": "35043273-ed2e-4746-8b01-90099979292a",
   "metadata": {},
   "outputs": [],
   "source": [
    "from nltk.tokenize import word_tokenize\n",
    "\n",
    "all_words = []\n",
    "\n",
    "for review in X:\n",
    "    tokenize_review = word_tokenize(review)\n",
    "    for word in tokenize_review:\n",
    "        all_words.append(word)"
   ]
  },
  {
   "cell_type": "code",
   "execution_count": 27,
   "id": "b9431c9c-ad91-470f-8174-3c7a1ee8bd9e",
   "metadata": {},
   "outputs": [
    {
     "name": "stdout",
     "output_type": "stream",
     "text": [
      "654443\n",
      "There are 13360 unique words in the review text\n"
     ]
    }
   ],
   "source": [
    "print(len(all_words))\n",
    "print(\"There are \" + str(len(set(all_words))) + \" unique words in the review text\")"
   ]
  },
  {
   "cell_type": "code",
   "execution_count": 28,
   "id": "6eaf6e54-954f-42fc-b950-b32656de1e73",
   "metadata": {},
   "outputs": [],
   "source": [
    "from sklearn.feature_extraction.text import CountVectorizer, TfidfVectorizer"
   ]
  },
  {
   "cell_type": "code",
   "execution_count": 29,
   "id": "d6022c8c-ac8e-4b20-ac13-5b06956149ae",
   "metadata": {},
   "outputs": [],
   "source": [
    "vectorizer = TfidfVectorizer(max_features = 3000) \n",
    "tfidf_arr = vectorizer.fit_transform(X)"
   ]
  },
  {
   "cell_type": "code",
   "execution_count": 30,
   "id": "daf8c191-1c97-4a05-8693-14b874558b73",
   "metadata": {},
   "outputs": [],
   "source": [
    "tfidf_Xtrain, tfidf_Xtest, y_train, y_test = train_test_split(tfidf_arr, y, test_size=0.20)\n"
   ]
  },
  {
   "cell_type": "code",
   "execution_count": 31,
   "id": "c31e33ea-adff-4380-8393-a33f021b5cda",
   "metadata": {},
   "outputs": [],
   "source": [
    "# vectorizer.get_feature_names_out()"
   ]
  },
  {
   "cell_type": "code",
   "execution_count": 32,
   "id": "8a95b0df-65e2-48cf-a0c0-8902908840c8",
   "metadata": {},
   "outputs": [
    {
     "data": {
      "text/html": [
       "<style>#sk-container-id-2 {color: black;background-color: white;}#sk-container-id-2 pre{padding: 0;}#sk-container-id-2 div.sk-toggleable {background-color: white;}#sk-container-id-2 label.sk-toggleable__label {cursor: pointer;display: block;width: 100%;margin-bottom: 0;padding: 0.3em;box-sizing: border-box;text-align: center;}#sk-container-id-2 label.sk-toggleable__label-arrow:before {content: \"▸\";float: left;margin-right: 0.25em;color: #696969;}#sk-container-id-2 label.sk-toggleable__label-arrow:hover:before {color: black;}#sk-container-id-2 div.sk-estimator:hover label.sk-toggleable__label-arrow:before {color: black;}#sk-container-id-2 div.sk-toggleable__content {max-height: 0;max-width: 0;overflow: hidden;text-align: left;background-color: #f0f8ff;}#sk-container-id-2 div.sk-toggleable__content pre {margin: 0.2em;color: black;border-radius: 0.25em;background-color: #f0f8ff;}#sk-container-id-2 input.sk-toggleable__control:checked~div.sk-toggleable__content {max-height: 200px;max-width: 100%;overflow: auto;}#sk-container-id-2 input.sk-toggleable__control:checked~label.sk-toggleable__label-arrow:before {content: \"▾\";}#sk-container-id-2 div.sk-estimator input.sk-toggleable__control:checked~label.sk-toggleable__label {background-color: #d4ebff;}#sk-container-id-2 div.sk-label input.sk-toggleable__control:checked~label.sk-toggleable__label {background-color: #d4ebff;}#sk-container-id-2 input.sk-hidden--visually {border: 0;clip: rect(1px 1px 1px 1px);clip: rect(1px, 1px, 1px, 1px);height: 1px;margin: -1px;overflow: hidden;padding: 0;position: absolute;width: 1px;}#sk-container-id-2 div.sk-estimator {font-family: monospace;background-color: #f0f8ff;border: 1px dotted black;border-radius: 0.25em;box-sizing: border-box;margin-bottom: 0.5em;}#sk-container-id-2 div.sk-estimator:hover {background-color: #d4ebff;}#sk-container-id-2 div.sk-parallel-item::after {content: \"\";width: 100%;border-bottom: 1px solid gray;flex-grow: 1;}#sk-container-id-2 div.sk-label:hover label.sk-toggleable__label {background-color: #d4ebff;}#sk-container-id-2 div.sk-serial::before {content: \"\";position: absolute;border-left: 1px solid gray;box-sizing: border-box;top: 0;bottom: 0;left: 50%;z-index: 0;}#sk-container-id-2 div.sk-serial {display: flex;flex-direction: column;align-items: center;background-color: white;padding-right: 0.2em;padding-left: 0.2em;position: relative;}#sk-container-id-2 div.sk-item {position: relative;z-index: 1;}#sk-container-id-2 div.sk-parallel {display: flex;align-items: stretch;justify-content: center;background-color: white;position: relative;}#sk-container-id-2 div.sk-item::before, #sk-container-id-2 div.sk-parallel-item::before {content: \"\";position: absolute;border-left: 1px solid gray;box-sizing: border-box;top: 0;bottom: 0;left: 50%;z-index: -1;}#sk-container-id-2 div.sk-parallel-item {display: flex;flex-direction: column;z-index: 1;position: relative;background-color: white;}#sk-container-id-2 div.sk-parallel-item:first-child::after {align-self: flex-end;width: 50%;}#sk-container-id-2 div.sk-parallel-item:last-child::after {align-self: flex-start;width: 50%;}#sk-container-id-2 div.sk-parallel-item:only-child::after {width: 0;}#sk-container-id-2 div.sk-dashed-wrapped {border: 1px dashed gray;margin: 0 0.4em 0.5em 0.4em;box-sizing: border-box;padding-bottom: 0.4em;background-color: white;}#sk-container-id-2 div.sk-label label {font-family: monospace;font-weight: bold;display: inline-block;line-height: 1.2em;}#sk-container-id-2 div.sk-label-container {text-align: center;}#sk-container-id-2 div.sk-container {/* jupyter's `normalize.less` sets `[hidden] { display: none; }` but bootstrap.min.css set `[hidden] { display: none !important; }` so we also need the `!important` here to be able to override the default hidden behavior on the sphinx rendered scikit-learn.org. See: https://github.com/scikit-learn/scikit-learn/issues/21755 */display: inline-block !important;position: relative;}#sk-container-id-2 div.sk-text-repr-fallback {display: none;}</style><div id=\"sk-container-id-2\" class=\"sk-top-container\"><div class=\"sk-text-repr-fallback\"><pre>MultinomialNB()</pre><b>In a Jupyter environment, please rerun this cell to show the HTML representation or trust the notebook. <br />On GitHub, the HTML representation is unable to render, please try loading this page with nbviewer.org.</b></div><div class=\"sk-container\" hidden><div class=\"sk-item\"><div class=\"sk-estimator sk-toggleable\"><input class=\"sk-toggleable__control sk-hidden--visually\" id=\"sk-estimator-id-2\" type=\"checkbox\" checked><label for=\"sk-estimator-id-2\" class=\"sk-toggleable__label sk-toggleable__label-arrow\">MultinomialNB</label><div class=\"sk-toggleable__content\"><pre>MultinomialNB()</pre></div></div></div></div></div>"
      ],
      "text/plain": [
       "MultinomialNB()"
      ]
     },
     "execution_count": 32,
     "metadata": {},
     "output_type": "execute_result"
    }
   ],
   "source": [
    "nbc = MultinomialNB()\n",
    "nbc.fit(tfidf_Xtrain, y_train)"
   ]
  },
  {
   "cell_type": "code",
   "execution_count": 33,
   "id": "bccbd9b9-af4a-4a6e-83a1-a13b1d1757c3",
   "metadata": {},
   "outputs": [],
   "source": [
    "predictions = nbc.predict(tfidf_Xtest)"
   ]
  },
  {
   "cell_type": "code",
   "execution_count": 34,
   "id": "170d9e48-79e6-436d-ad5f-b0a8e3c94204",
   "metadata": {},
   "outputs": [
    {
     "name": "stdout",
     "output_type": "stream",
     "text": [
      "              precision    recall  f1-score   support\n",
      "\n",
      "           0       0.87      0.27      0.41       816\n",
      "           1       0.86      0.99      0.92      3713\n",
      "\n",
      "    accuracy                           0.86      4529\n",
      "   macro avg       0.86      0.63      0.66      4529\n",
      "weighted avg       0.86      0.86      0.83      4529\n",
      "\n"
     ]
    }
   ],
   "source": [
    "print(metrics.classification_report(y_test, predictions))"
   ]
  },
  {
   "cell_type": "code",
   "execution_count": 35,
   "id": "81b59545-6abf-49ff-86e5-e2f691f46854",
   "metadata": {},
   "outputs": [
    {
     "data": {
      "text/plain": [
       "0.860454846544491"
      ]
     },
     "execution_count": 35,
     "metadata": {},
     "output_type": "execute_result"
    }
   ],
   "source": [
    "nbc.score(tfidf_Xtest, y_test)"
   ]
  },
  {
   "cell_type": "code",
   "execution_count": 36,
   "id": "4e15b1e6-236e-4555-8d30-b2548147d91e",
   "metadata": {},
   "outputs": [
    {
     "data": {
      "text/plain": [
       "array([[ 217,  599],\n",
       "       [  33, 3680]])"
      ]
     },
     "execution_count": 36,
     "metadata": {},
     "output_type": "execute_result"
    }
   ],
   "source": [
    "confusion_matrix(y_test, predictions)"
   ]
  },
  {
   "cell_type": "markdown",
   "id": "4ff2264b-ca82-42d8-84cb-006c72b4bf30",
   "metadata": {},
   "source": [
    "For Not recommended reviews:\n",
    " - Out of the reviews the model predicted would not recommend an item, 97% were correct. \n",
    " - Out of the reviews that did not recommend an item, the model predicted this outcome correctly for 27% of them.\n",
    " - The low f1-score indicates the model did a poor job of this\n",
    " \n",
    "For Recommended reviews:\n",
    " - Out of the reviews the model predicted would recommend an item, 86% of them actually did. \n",
    " - Out of the reviews that did recommend an item, the model predicted this outcome correctly for 99% of them.\n",
    " - The high f1-score indicates the model did a good job of this"
   ]
  },
  {
   "cell_type": "markdown",
   "id": "b5f20e45-dcaa-4cbd-955b-7e9c158b9c9f",
   "metadata": {},
   "source": [
    "When I was testing the model with different max_features parameter values, it seems that the lower the parameter value, the better the model seems to perform with predicting not recommended reviews. The score doesn't change much for the recommended reviews. "
   ]
  },
  {
   "cell_type": "markdown",
   "id": "b1be583e-b656-4992-bed5-09fcc30f3184",
   "metadata": {},
   "source": [
    "#### It seems that our tfidf model did a good job of detecting reviews that would recommend an item, but a poor job of detecting reviews that would not recommend an item. In this case, the TF-IDF statistic seemed to be an even worse predictor than the frequency provided by count-vectorizer, which is probably why this algorithm performed even worse."
   ]
  },
  {
   "cell_type": "markdown",
   "id": "160d4e6f-ceec-4d9e-ab24-e87b73343016",
   "metadata": {},
   "source": [
    "## GloVe"
   ]
  },
  {
   "cell_type": "markdown",
   "id": "9aa33114-51dd-410a-b0f5-6c395ce63d74",
   "metadata": {},
   "source": [
    "### GloVe, or global vectors, generates word vectors by looking at relationships between different terms within documents. It looks at both local and global statistics of terms within documents, which is why it is so powerful. This method is even more powerful than word2vec, which looks at local stats only. The idea behind the method is that we can discover more information and context by looking at words in a co-occurrence matrix, which essentially shows us the probability of seeing different words together. However, this method is not efficient, and can take up a lot of memory. It is also very time consuming because of how many parameters are involved, and it is not very easy to tune the parameters of your model because of this."
   ]
  },
  {
   "cell_type": "code",
   "execution_count": 37,
   "id": "936653ec-f3c3-44b8-a6d6-d8d2d5e7ac69",
   "metadata": {},
   "outputs": [],
   "source": [
    "X_train, X_test, y_train, y_test = train_test_split(X, y, test_size=0.20)"
   ]
  },
  {
   "cell_type": "code",
   "execution_count": 38,
   "id": "198d83e9-6e19-4dea-a22c-497d69276214",
   "metadata": {},
   "outputs": [],
   "source": [
    "from keras.utils import to_categorical\n",
    "glove_y_train = to_categorical(y_train)\n",
    "glove_y_test = to_categorical(y_test)"
   ]
  },
  {
   "cell_type": "code",
   "execution_count": 39,
   "id": "c96e17a4-1343-47ec-a917-1def4dd54e00",
   "metadata": {},
   "outputs": [
    {
     "data": {
      "text/plain": [
       "62"
      ]
     },
     "execution_count": 39,
     "metadata": {},
     "output_type": "execute_result"
    }
   ],
   "source": [
    "longest_sentence = max(X, key = lambda review: len(word_tokenize(review)))\n",
    "length_long_sentence = len(word_tokenize(longest_sentence))\n",
    "length_long_sentence # length of the longest sentence"
   ]
  },
  {
   "cell_type": "code",
   "execution_count": 40,
   "id": "53388895-6454-418d-8f37-a13e1501d599",
   "metadata": {},
   "outputs": [],
   "source": [
    "tokenizer = Tokenizer(num_words = 13433) # num of unique words\n",
    "tokenizer.fit_on_texts(X_train)\n",
    "\n",
    "glove_X_train = tokenizer.texts_to_sequences(X_train)\n",
    "glove_X_test = tokenizer.texts_to_sequences(X_test)"
   ]
  },
  {
   "cell_type": "code",
   "execution_count": 41,
   "id": "fa13d86b-dfb4-4f52-9051-992f37495c56",
   "metadata": {},
   "outputs": [],
   "source": [
    "vocab_size = len(tokenizer.word_index) + 1\n",
    "\n",
    "glove_X_train = pad_sequences(glove_X_train, padding = 'post', maxlen = length_long_sentence) # sentences must all be same length\n",
    "glove_X_test = pad_sequences(glove_X_test, padding = 'post', maxlen = length_long_sentence)"
   ]
  },
  {
   "cell_type": "markdown",
   "id": "6b1ea77b-90f4-4219-b783-ddc65839a1ed",
   "metadata": {},
   "source": [
    "### Here, we use the 100d glove embeddings from the following link: https://nlp.stanford.edu/projects/glove/. This means that the metrics and statistics from our co-occurrence matrices are being turned into 100-dimensional vectors for our neural network. We are only using 100d because this method is very inefficient and costly compared to the previous ones. "
   ]
  },
  {
   "cell_type": "code",
   "execution_count": 42,
   "id": "eb66f515-198c-41b7-85db-f83ed1cc11dd",
   "metadata": {},
   "outputs": [],
   "source": [
    "from numpy import array\n",
    "from numpy import asarray\n",
    "from numpy import zeros\n",
    "\n",
    "embeddings = dict()\n",
    "\n",
    "glove_file = open('glove.6B/glove.6B.100d.txt', encoding=\"utf8\")\n",
    "\n",
    "for line in glove_file:\n",
    "    records = line.split()\n",
    "    word = records[0]\n",
    "    vec_dim = asarray(records[1:], dtype='float32')\n",
    "    embeddings[word] = vec_dim\n",
    "\n",
    "glove_file.close()"
   ]
  },
  {
   "cell_type": "code",
   "execution_count": 43,
   "id": "e40a68e3-6365-48a8-bf97-7379770714bb",
   "metadata": {},
   "outputs": [],
   "source": [
    "em_mat = zeros((vocab_size, 100))\n",
    "for word, index in tokenizer.word_index.items():\n",
    "    em_vec = embeddings.get(word)\n",
    "    if em_vec is not None:\n",
    "        em_mat[index] = em_vec"
   ]
  },
  {
   "cell_type": "code",
   "execution_count": 44,
   "id": "5b5a60f4-e413-430c-9bd8-dd8102a03c3c",
   "metadata": {},
   "outputs": [],
   "source": [
    "from keras.optimizers import SGD"
   ]
  },
  {
   "cell_type": "code",
   "execution_count": 48,
   "id": "9c8d858d-ffda-4fe5-bc17-5d28ecc59f1e",
   "metadata": {},
   "outputs": [],
   "source": [
    "deep_inputs = Input(shape=(length_long_sentence, ))\n",
    "em_layer = Embedding(vocab_size, 100, weights = [em_mat], trainable = False)(deep_inputs)\n",
    "LSTM_Layer_1 = LSTM(128)(em_layer)\n",
    "dense_layer_1 = Dense(2, activation = 'sigmoid')(LSTM_Layer_1) # sigmoid for binary classification\n",
    "model = Model(inputs=  deep_inputs, outputs = dense_layer_1)\n",
    "opt = SGD(learning_rate = 0.001)\n",
    "model.compile(loss='binary_crossentropy', optimizer = opt, metrics=['acc'])"
   ]
  },
  {
   "cell_type": "code",
   "execution_count": 49,
   "id": "761bb9f8-5efc-447c-b20b-1367223aea6a",
   "metadata": {},
   "outputs": [
    {
     "name": "stdout",
     "output_type": "stream",
     "text": [
      "Epoch 1/10\n",
      "114/114 [==============================] - 14s 107ms/step - loss: 0.6850 - acc: 0.8081 - val_loss: 0.6769 - val_acc: 0.8167\n",
      "Epoch 2/10\n",
      "114/114 [==============================] - 13s 118ms/step - loss: 0.6694 - acc: 0.8169 - val_loss: 0.6619 - val_acc: 0.8167\n",
      "Epoch 3/10\n",
      "114/114 [==============================] - 13s 113ms/step - loss: 0.6550 - acc: 0.8169 - val_loss: 0.6480 - val_acc: 0.8167\n",
      "Epoch 4/10\n",
      "114/114 [==============================] - 11s 96ms/step - loss: 0.6415 - acc: 0.8169 - val_loss: 0.6349 - val_acc: 0.8167\n",
      "Epoch 5/10\n",
      "114/114 [==============================] - 12s 104ms/step - loss: 0.6288 - acc: 0.8169 - val_loss: 0.6227 - val_acc: 0.8167\n",
      "Epoch 6/10\n",
      "114/114 [==============================] - 12s 105ms/step - loss: 0.6169 - acc: 0.8169 - val_loss: 0.6111 - val_acc: 0.8167\n",
      "Epoch 7/10\n",
      "114/114 [==============================] - 13s 119ms/step - loss: 0.6056 - acc: 0.8169 - val_loss: 0.6002 - val_acc: 0.8167\n",
      "Epoch 8/10\n",
      "114/114 [==============================] - 15s 132ms/step - loss: 0.5950 - acc: 0.8169 - val_loss: 0.5898 - val_acc: 0.8167\n",
      "Epoch 9/10\n",
      "114/114 [==============================] - 12s 105ms/step - loss: 0.5849 - acc: 0.8169 - val_loss: 0.5800 - val_acc: 0.8167\n",
      "Epoch 10/10\n",
      "114/114 [==============================] - 14s 122ms/step - loss: 0.5753 - acc: 0.8169 - val_loss: 0.5707 - val_acc: 0.8167\n"
     ]
    }
   ],
   "source": [
    "history = model.fit(glove_X_train, glove_y_train, batch_size=128, epochs=10, verbose=1, validation_split=0.2)"
   ]
  },
  {
   "cell_type": "code",
   "execution_count": 50,
   "id": "72cbd8da-66ec-41dc-a5be-c3f9dfbe3526",
   "metadata": {},
   "outputs": [
    {
     "name": "stdout",
     "output_type": "stream",
     "text": [
      "142/142 [==============================] - 4s 25ms/step - loss: 0.5660 - acc: 0.8269\n",
      "Test Loss: 0.5659803152084351\n",
      "Test Accuracy: 0.8268933296203613\n"
     ]
    }
   ],
   "source": [
    "score = model.evaluate(glove_X_test, glove_y_test, verbose=1)\n",
    "\n",
    "print(\"Test Loss:\", score[0])\n",
    "print(\"Test Accuracy:\", score[1])"
   ]
  },
  {
   "cell_type": "markdown",
   "id": "954989f4-bd17-465b-bc6a-beb6ce0340f2",
   "metadata": {},
   "source": [
    "### Our model performed more poorly than both our previous methods! Because it takes so long to rerun the model each time, it was very difficult to hypertune the parameters for this one compared to the countvectorizer and tf-idf techniques. It's likely that we would have been able to find a much higher accuracy if we had played around with the parameters a lot, but that would have been much too time-consuming."
   ]
  },
  {
   "cell_type": "markdown",
   "id": "be9db0bf-7adf-4402-8372-26d870599e99",
   "metadata": {},
   "source": [
    "# Overall:\n",
    "\n",
    "### Our simplest model performed the best! Likely because that was also the method that was easiest to hypertune because of how simple and efficient it was. With a more powerful machine, and with more time, our more complex and powerful methods, especially GloVe, probably would have performed better. This was also a classification problem, so different methods may perform better with different types of problems. In addition, the text was collected from users on clothing sites, which means there may be an abundance of typos that we could not have taken care of in the data cleaning and processing stage."
   ]
  },
  {
   "cell_type": "code",
   "execution_count": null,
   "id": "efaf20db-fdeb-48f9-9954-6c69d49a4f44",
   "metadata": {},
   "outputs": [],
   "source": []
  }
 ],
 "metadata": {
  "kernelspec": {
   "display_name": "Python 3",
   "language": "python",
   "name": "python3"
  },
  "language_info": {
   "codemirror_mode": {
    "name": "ipython",
    "version": 3
   },
   "file_extension": ".py",
   "mimetype": "text/x-python",
   "name": "python",
   "nbconvert_exporter": "python",
   "pygments_lexer": "ipython3",
   "version": "3.8.8"
  }
 },
 "nbformat": 4,
 "nbformat_minor": 5
}
